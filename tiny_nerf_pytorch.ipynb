{
  "cells": [
    {
      "cell_type": "code",
      "execution_count": 1,
      "metadata": {
        "id": "ptTYjWao3VsM"
      },
      "outputs": [
        {
          "data": {
            "text/plain": [
              "device(type='cuda', index=0)"
            ]
          },
          "execution_count": 1,
          "metadata": {},
          "output_type": "execute_result"
        }
      ],
      "source": [
        "# Import all the good stuff\n",
        "from typing import Optional\n",
        "\n",
        "import numpy as np\n",
        "import torch\n",
        "import matplotlib.pyplot as plt\n",
        "device = torch.device(\"cuda:0\" if torch.cuda.is_available() else \"cpu\")\n",
        "device"
      ]
    },
    {
      "cell_type": "code",
      "execution_count": 2,
      "metadata": {},
      "outputs": [
        {
          "data": {
            "text/plain": [
              "MLP(\n",
              "  (fc1): Linear(in_features=12096, out_features=256, bias=True)\n",
              "  (relu): ReLU()\n",
              "  (fc2): Linear(in_features=256, out_features=256, bias=True)\n",
              "  (fc3): Linear(in_features=256, out_features=256, bias=True)\n",
              "  (fc4): Linear(in_features=256, out_features=256, bias=True)\n",
              "  (fc5): Linear(in_features=256, out_features=256, bias=True)\n",
              "  (fc6): Linear(in_features=256, out_features=256, bias=True)\n",
              "  (fc7): Linear(in_features=256, out_features=256, bias=True)\n",
              "  (fc8): Linear(in_features=256, out_features=3, bias=True)\n",
              ")"
            ]
          },
          "execution_count": 2,
          "metadata": {},
          "output_type": "execute_result"
        }
      ],
      "source": [
        "from torch import nn\n",
        "\n",
        "class MLP(nn.Module):\n",
        "    def __init__(self,c_input_size,output_size):\n",
        "        self.input = c_input_size\n",
        "        super().__init__()\n",
        "        self.fc1 = nn.Linear(self.input, 256)\n",
        "        self.relu=nn.ReLU()\n",
        "        self.fc2 = nn.Linear(256, 256)\n",
        "        self.fc3 = nn.Linear(256, 256)\n",
        "        self.fc4 = nn.Linear(256, 256)\n",
        "        self.fc5 = nn.Linear(256, 256)\n",
        "        self.fc6 = nn.Linear(256, 256)\n",
        "        self.fc7 = nn.Linear(256, 256)\n",
        "        self.fc8=nn.Linear(256,output_size)\n",
        "        self.L_pos=10\n",
        "    def forward(self, x):\n",
        "        xs_encoded = [x]\n",
        "        for l_pos in range(self.L_pos):\n",
        "            encoded_sin = torch.sin(2 ** l_pos * torch.pi * x)\n",
        "            encoded_cos = torch.cos(2 ** l_pos * torch.pi * x)\n",
        "            xs_encoded.append(encoded_sin)\n",
        "            xs_encoded.append(encoded_cos)\n",
        "        xs_encoded = torch.cat(xs_encoded, dim=-1)\n",
        "        x=xs_encoded\n",
        "        x=self.fc1(x)\n",
        "        x=self.relu(x)\n",
        "        x=self.fc2(x)\n",
        "        x=self.relu(x)\n",
        "        x=self.fc3(x)\n",
        "        x=self.relu(x)\n",
        "        x=self.fc4(x)\n",
        "        x=self.relu(x)\n",
        "        x=self.fc5(x)\n",
        "        x=self.relu(x)\n",
        "        x=self.fc6(x)\n",
        "        x=self.relu(x)\n",
        "        x=self.fc7(x)\n",
        "        x=self.relu(x)\n",
        "        x=self.fc8(x)\n",
        "        return x\n",
        "\n",
        "class MLPtrainer:\n",
        "    def __init__(self, model, optimizer):\n",
        "        self.model = model\n",
        "        self.optimizer = optimizer\n",
        "        self.criterion = nn.MSELoss()\n",
        "        \n",
        "    def train(self, x, y, epochs=500):\n",
        "        batch_size = 64 * 64\n",
        "        device = next(self.model.parameters()).device  # Get device from model's parameters\n",
        "\n",
        "        for epoch in range(int(epochs)):\n",
        "            for i in range(0, len(x), batch_size):\n",
        "                x_batch = x[i:i+batch_size].to(device)\n",
        "                y_batch = y[i:i+batch_size].to(device)\n",
        "                self.optimizer.zero_grad()\n",
        "                output = self.model(x_batch)\n",
        "                loss = self.criterion(output, y_batch)\n",
        "                loss.backward(retain_graph=True)\n",
        "                self.optimizer.step()\n",
        "\n",
        "            print(f\"Epoch {epoch}, Loss: {loss.item()}\")\n",
        "        return loss\n",
        "\n",
        "    def test(self, x, y):\n",
        "        output = self.model(x)\n",
        "        loss = self.criterion(output, y)\n",
        "        return loss\n",
        "model_color_mlp = MLP(12096,3)\n",
        "model_path_mlp = 'model_color_mlp_lego1.pth'\n",
        "checkpoint_F_f = torch.load(model_path_mlp, map_location=torch.device('cpu'))\n",
        "model_color_mlp.load_state_dict(checkpoint_F_f['model_state_dict'])\n",
        "model_color_mlp.to(device)\n",
        "model_color_mlp.eval()"
      ]
    },
    {
      "cell_type": "code",
      "execution_count": 3,
      "metadata": {
        "id": "Qbdf8GDL4_0Z"
      },
      "outputs": [],
      "source": [
        "def meshgrid_xy(tensor1: torch.Tensor, tensor2: torch.Tensor) -> (torch.Tensor, torch.Tensor):\n",
        "    \"\"\"Mimick np.meshgrid(..., indexing=\"xy\") in pytorch. torch.meshgrid only allows \"ij\" indexing.\n",
        "    (If you're unsure what this means, safely skip trying to understand this, and run a tiny example!)\n",
        "\n",
        "    Args:\n",
        "      tensor1 (torch.Tensor): Tensor whose elements define the first dimension of the returned meshgrid.\n",
        "      tensor2 (torch.Tensor): Tensor whose elements define the second dimension of the returned meshgrid.\n",
        "    \"\"\"\n",
        "    # TESTED\n",
        "    ii, jj = torch.meshgrid(tensor1, tensor2)\n",
        "    return ii.transpose(-1, -2), jj.transpose(-1, -2)\n",
        "\n",
        "\n",
        "def cumprod_exclusive(tensor: torch.Tensor) -> torch.Tensor:\n",
        "  r\"\"\"Mimick functionality of tf.math.cumprod(..., exclusive=True), as it isn't available in PyTorch.\n",
        "\n",
        "  Args:\n",
        "    tensor (torch.Tensor): Tensor whose cumprod (cumulative product, see `torch.cumprod`) along dim=-1\n",
        "      is to be computed.\n",
        "\n",
        "  Returns:\n",
        "    cumprod (torch.Tensor): cumprod of Tensor along dim=-1, mimiciking the functionality of\n",
        "      tf.math.cumprod(..., exclusive=True) (see `tf.math.cumprod` for details).\n",
        "  \"\"\"\n",
        "  # TESTED\n",
        "  # Only works for the last dimension (dim=-1)\n",
        "  dim = -1\n",
        "  # Compute regular cumprod first (this is equivalent to `tf.math.cumprod(..., exclusive=False)`).\n",
        "  cumprod = torch.cumprod(tensor, dim)\n",
        "  # \"Roll\" the elements along dimension 'dim' by 1 element.\n",
        "  cumprod = torch.roll(cumprod, 1, dim)\n",
        "  # Replace the first element by \"1\" as this is what tf.cumprod(..., exclusive=True) does.\n",
        "  cumprod[..., 0] = 1.\n",
        "\n",
        "  return cumprod"
      ]
    },
    {
      "cell_type": "markdown",
      "metadata": {
        "id": "ZcCuOfj-7OPN"
      },
      "source": [
        "#### Compute the \"bundle\" of rays through all pixels of an image."
      ]
    },
    {
      "cell_type": "code",
      "execution_count": 4,
      "metadata": {
        "id": "EHNwlsOT7NTp"
      },
      "outputs": [],
      "source": [
        "def get_ray_bundle(height: int, width: int, focal_length: float, tform_cam2world: torch.Tensor):\n",
        "  r\"\"\"Compute the bundle of rays passing through all pixels of an image (one ray per pixel).\n",
        "\n",
        "  Args:\n",
        "    height (int): Height of an image (number of pixels).\n",
        "    width (int): Width of an image (number of pixels).\n",
        "    focal_length (float or torch.Tensor): Focal length (number of pixels, i.e., calibrated intrinsics).\n",
        "    tform_cam2world (torch.Tensor): A 6-DoF rigid-body transform (shape: :math:`(4, 4)`) that\n",
        "      transforms a 3D point from the camera frame to the \"world\" frame for the current example.\n",
        "\n",
        "  Returns:\n",
        "    ray_origins (torch.Tensor): A tensor of shape :math:`(width, height, 3)` denoting the centers of\n",
        "      each ray. `ray_origins[i][j]` denotes the origin of the ray passing through pixel at\n",
        "      row index `j` and column index `i`.\n",
        "      (TODO: double check if explanation of row and col indices convention is right).\n",
        "    ray_directions (torch.Tensor): A tensor of shape :math:`(width, height, 3)` denoting the\n",
        "      direction of each ray (a unit vector). `ray_directions[i][j]` denotes the direction of the ray\n",
        "      passing through the pixel at row index `j` and column index `i`.\n",
        "      (TODO: double check if explanation of row and col indices convention is right).\n",
        "  \"\"\"\n",
        "  # TESTED\n",
        "  ii, jj = meshgrid_xy(\n",
        "      torch.arange(width).to(tform_cam2world),\n",
        "      torch.arange(height).to(tform_cam2world)\n",
        "  )\n",
        "  directions = torch.stack([(ii - width * .5) / focal_length,\n",
        "                            -(jj - height * .5) / focal_length,\n",
        "                            -torch.ones_like(ii)\n",
        "                           ], dim=-1)\n",
        "  ray_directions = torch.sum(directions[..., None, :] * tform_cam2world[:3, :3], dim=-1)\n",
        "  ray_origins = tform_cam2world[:3, -1].expand(ray_directions.shape)\n",
        "  return ray_origins, ray_directions"
      ]
    },
    {
      "cell_type": "markdown",
      "metadata": {
        "id": "o1bcBtvR-s0_"
      },
      "source": [
        "#### Compute \"query\" 3D points given the \"bundle\" of rays.\n",
        "\n",
        "We assume that a _near_ and a _far_ clipping distance are provided that delineate the volume of interest. Each ray is evaluated only within these bounds. We randomly sample points along each ray, while trying to ensure most parts of the ray's trajectory are spanned."
      ]
    },
    {
      "cell_type": "code",
      "execution_count": 5,
      "metadata": {
        "id": "wAAfDK2L-faR"
      },
      "outputs": [],
      "source": [
        "def compute_query_points_from_rays(\n",
        "    ray_origins: torch.Tensor,\n",
        "    ray_directions: torch.Tensor,\n",
        "    near_thresh: float,\n",
        "    far_thresh: float,\n",
        "    num_samples: int,\n",
        "    randomize: Optional[bool] = True\n",
        ") -> (torch.Tensor, torch.Tensor):\n",
        "  r\"\"\"Compute query 3D points given the \"bundle\" of rays. The near_thresh and far_thresh\n",
        "  variables indicate the bounds within which 3D points are to be sampled.\n",
        "\n",
        "  Args:\n",
        "    ray_origins (torch.Tensor): Origin of each ray in the \"bundle\" as returned by the\n",
        "      `get_ray_bundle()` method (shape: :math:`(width, height, 3)`).\n",
        "    ray_directions (torch.Tensor): Direction of each ray in the \"bundle\" as returned by the\n",
        "      `get_ray_bundle()` method (shape: :math:`(width, height, 3)`).\n",
        "    near_thresh (float): The 'near' extent of the bounding volume (i.e., the nearest depth\n",
        "      coordinate that is of interest/relevance).\n",
        "    far_thresh (float): The 'far' extent of the bounding volume (i.e., the farthest depth\n",
        "      coordinate that is of interest/relevance).\n",
        "    num_samples (int): Number of samples to be drawn along each ray. Samples are drawn\n",
        "      randomly, whilst trying to ensure \"some form of\" uniform spacing among them.\n",
        "    randomize (optional, bool): Whether or not to randomize the sampling of query points.\n",
        "      By default, this is set to `True`. If disabled (by setting to `False`), we sample\n",
        "      uniformly spaced points along each ray in the \"bundle\".\n",
        "\n",
        "  Returns:\n",
        "    query_points (torch.Tensor): Query points along each ray\n",
        "      (shape: :math:`(width, height, num_samples, 3)`).\n",
        "    depth_values (torch.Tensor): Sampled depth values along each ray\n",
        "      (shape: :math:`(num_samples)`).\n",
        "  \"\"\"\n",
        "  # TESTED\n",
        "  # shape: (num_samples)\n",
        "  depth_values = torch.linspace(near_thresh, far_thresh, num_samples).to(ray_origins)\n",
        "  if randomize is True:\n",
        "    # ray_origins: (width, height, 3)\n",
        "    # noise_shape = (width, height, num_samples)\n",
        "    noise_shape = list(ray_origins.shape[:-1]) + [num_samples]\n",
        "    # depth_values: (num_samples)\n",
        "    depth_values = depth_values \\\n",
        "        + torch.rand(noise_shape).to(ray_origins) * (far_thresh\n",
        "            - near_thresh) / num_samples\n",
        "  # (width, height, num_samples, 3) = (width, height, 1, 3) + (width, height, 1, 3) * (num_samples, 1)\n",
        "  # query_points:  (width, height, num_samples, 3)\n",
        "  query_points = ray_origins[..., None, :] + ray_directions[..., None, :] * depth_values[..., :, None]\n",
        "  # TODO: Double-check that `depth_values` returned is of shape `(num_samples)`.\n",
        "  return query_points, depth_values"
      ]
    },
    {
      "cell_type": "markdown",
      "metadata": {
        "id": "KqcXnLXpDgsR"
      },
      "source": [
        "#### Volumetric rendering\n",
        "\n",
        "> **NOTE**: This volumetric rendering module (like the authors' tiny_nerf [Colab notebook](https://colab.research.google.com/github/bmild/nerf/blob/master/tiny_nerf.ipynb) does not implement 5D input (which includes view directions, in addition to X, Y, Z coordinates). It also does not implement the hierarchical sampling procedure. For those implementations, refer to the other complete examples in the repo."
      ]
    },
    {
      "cell_type": "code",
      "execution_count": 6,
      "metadata": {
        "id": "UuZn7lMFDZXy"
      },
      "outputs": [],
      "source": [
        "X_color=[]\n",
        "X_sigma=[]\n",
        "y_color=[]\n",
        "y_sigma=[]\n",
        "\n",
        "\n",
        "def render_volume_density_real(\n",
        "    radiance_field: torch.Tensor,\n",
        "    ray_origins: torch.Tensor,\n",
        "    depth_values: torch.Tensor\n",
        ") -> (torch.Tensor, torch.Tensor, torch.Tensor):\n",
        "  r\"\"\"Differentiably renders a radiance field, given the origin of each ray in the\n",
        "  \"bundle\", and the sampled depth values along them.\n",
        "\n",
        "  Args:\n",
        "    radiance_field (torch.Tensor): A \"field\" where, at each query location (X, Y, Z),\n",
        "      we have an emitted (RGB) color and a volume density (denoted :math:`\\sigma` in\n",
        "      the paper) (shape: :math:`(width, height, num_samples, 4)`).\n",
        "    ray_origins (torch.Tensor): Origin of each ray in the \"bundle\" as returned by the\n",
        "      `get_ray_bundle()` method (shape: :math:`(width, height, 3)`).\n",
        "    depth_values (torch.Tensor): Sampled depth values along each ray\n",
        "      (shape: :math:`(num_samples)`).\n",
        "\n",
        "  Returns:\n",
        "    rgb_map (torch.Tensor): Rendered RGB image (shape: :math:`(width, height, 3)`).\n",
        "    depth_map (torch.Tensor): Rendered depth image (shape: :math:`(width, height)`).\n",
        "    acc_map (torch.Tensor): # TODO: Double-check (I think this is the accumulated\n",
        "      transmittance map).\n",
        "  \"\"\"\n",
        "  # TESTED\n",
        "  sigma_a = torch.nn.functional.relu(radiance_field[..., 3])\n",
        "  rgb = torch.sigmoid(radiance_field[..., :3])\n",
        "  # rgb1=torch.reshape(rgb,(10000,576))\n",
        "  # rgb1=torch.tensor(rgb1)\n",
        "  # X_color.extend(rgb1)\n",
        "\n",
        "  one_e_10 = torch.tensor([1e10], dtype=ray_origins.dtype, device=ray_origins.device)\n",
        "  dists = torch.cat((depth_values[..., 1:] - depth_values[..., :-1],\n",
        "                  one_e_10.expand(depth_values[..., :1].shape)), dim=-1)\n",
        "  alpha = 1. - torch.exp(-sigma_a * dists)\n",
        "  weights = alpha * cumprod_exclusive(1. - alpha + 1e-10)\n",
        "\n",
        "  rgb_map = (weights[..., None] * rgb).sum(dim=-2)\n",
        "  # rgb_map1=torch.reshape(rgb_map,(10000,3))\n",
        "  # y_color.extend(rgb_map1)\n",
        "  depth_map = (weights * depth_values).sum(dim=-1)\n",
        "  acc_map = weights.sum(-1)\n",
        "\n",
        "  return rgb_map, depth_map, acc_map"
      ]
    },
    {
      "cell_type": "markdown",
      "metadata": {
        "id": "i94CgahGHBEV"
      },
      "source": [
        "#### Positional encoding\n",
        "\n",
        "Another interesting tweak used in NeRF is \"positional encoding\", which postulates the use of a mapping to higher dimensional space (using a basis set of high-frequency functions). This greatly enhances the model's capability to capture high-frequency variations."
      ]
    },
    {
      "cell_type": "code",
      "execution_count": 7,
      "metadata": {
        "id": "rrbs7YoMHAbF"
      },
      "outputs": [],
      "source": [
        "def positional_encoding(\n",
        "    tensor, num_encoding_functions=6, include_input=True, log_sampling=True\n",
        ") -> torch.Tensor:\n",
        "  r\"\"\"Apply positional encoding to the input.\n",
        "\n",
        "  Args:\n",
        "    tensor (torch.Tensor): Input tensor to be positionally encoded.\n",
        "    num_encoding_functions (optional, int): Number of encoding functions used to\n",
        "        compute a positional encoding (default: 6).\n",
        "    include_input (optional, bool): Whether or not to include the input in the\n",
        "        computed positional encoding (default: True).\n",
        "    log_sampling (optional, bool): Sample logarithmically in frequency space, as\n",
        "        opposed to linearly (default: True).\n",
        "\n",
        "  Returns:\n",
        "    (torch.Tensor): Positional encoding of the input tensor.\n",
        "  \"\"\"\n",
        "  # TESTED\n",
        "  # Trivially, the input tensor is added to the positional encoding.\n",
        "  encoding = [tensor] if include_input else []\n",
        "  # Now, encode the input using a set of high-frequency functions and append the\n",
        "  # resulting values to the encoding.\n",
        "  frequency_bands = None\n",
        "  if log_sampling:\n",
        "      frequency_bands = 2.0 ** torch.linspace(\n",
        "            0.0,\n",
        "            num_encoding_functions - 1,\n",
        "            num_encoding_functions,\n",
        "            dtype=tensor.dtype,\n",
        "            device=tensor.device,\n",
        "        )\n",
        "  else:\n",
        "      frequency_bands = torch.linspace(\n",
        "          2.0 ** 0.0,\n",
        "          2.0 ** (num_encoding_functions - 1),\n",
        "          num_encoding_functions,\n",
        "          dtype=tensor.dtype,\n",
        "          device=tensor.device,\n",
        "      )\n",
        "\n",
        "  for freq in frequency_bands:\n",
        "      for func in [torch.sin, torch.cos]:\n",
        "          encoding.append(func(tensor * freq))\n",
        "\n",
        "  # Special case, for no positional encoding\n",
        "  if len(encoding) == 1:\n",
        "      return encoding[0]\n",
        "  else:\n",
        "      return torch.cat(encoding, dim=-1)"
      ]
    },
    {
      "cell_type": "markdown",
      "metadata": {
        "id": "tgoNR03iIs7R"
      },
      "source": [
        "## TinyNeRF: Network architecture"
      ]
    },
    {
      "cell_type": "markdown",
      "metadata": {
        "id": "94jKMMz7gb7Y"
      },
      "source": [
        "## NeRF: Network architecture"
      ]
    },
    {
      "cell_type": "code",
      "execution_count": 8,
      "metadata": {
        "id": "MvIDtf3TgaOA"
      },
      "outputs": [],
      "source": [
        "class VeryTinyNerfModel(torch.nn.Module):\n",
        "  r\"\"\"Define a \"very tiny\" NeRF model comprising three fully connected layers.\n",
        "  \"\"\"\n",
        "  def __init__(self, filter_size=128, num_encoding_functions=6):\n",
        "    super(VeryTinyNerfModel, self).__init__()\n",
        "    # Input layer (default: 39 -> 128)\n",
        "    self.layer1 = torch.nn.Linear(3 + 3 * 2 * num_encoding_functions, filter_size)\n",
        "    # Layer 2 (default: 128 -> 128)\n",
        "    self.layer2 = torch.nn.Linear(filter_size, filter_size)\n",
        "    self.layer3 = torch.nn.Linear(filter_size, filter_size)\n",
        "    self.layer4 = torch.nn.Linear(filter_size, filter_size)\n",
        "    # Layer 3 (default: 128 -> 4)\n",
        "    self.layer5 = torch.nn.Linear(filter_size, 4)\n",
        "    # Short hand for torch.nn.functional.relu\n",
        "    self.relu = torch.nn.functional.relu\n",
        "\n",
        "  def forward(self, x):\n",
        "    x = self.relu(self.layer1(x))\n",
        "    x = self.relu(self.layer2(x))\n",
        "    x=self.relu(self.layer3(x))\n",
        "    x=self.relu(self.layer4(x))\n",
        "    x = self.layer5(x)\n",
        "    return x"
      ]
    },
    {
      "cell_type": "markdown",
      "metadata": {
        "id": "pUnoBIhyKgx6"
      },
      "source": [
        "## Dataloading utils"
      ]
    },
    {
      "cell_type": "code",
      "execution_count": 9,
      "metadata": {
        "id": "v9SbAqC6Ki9H"
      },
      "outputs": [],
      "source": [
        "def get_minibatches(inputs: torch.Tensor, chunksize: Optional[int] = 1024 * 8):\n",
        "  r\"\"\"Takes a huge tensor (ray \"bundle\") and splits it into a list of minibatches.\n",
        "  Each element of the list (except possibly the last) has dimension `0` of length\n",
        "  `chunksize`.\n",
        "  \"\"\"\n",
        "  return [inputs[i:i + chunksize] for i in range(0, inputs.shape[0], chunksize)]"
      ]
    },
    {
      "cell_type": "markdown",
      "metadata": {
        "id": "WO3afCcLKg0D"
      },
      "source": [
        "## Get data"
      ]
    },
    {
      "cell_type": "markdown",
      "metadata": {
        "id": "Ierxw2dsL3pU"
      },
      "source": [
        "## Determine device to run on (GPU vs CPU)"
      ]
    },
    {
      "cell_type": "markdown",
      "metadata": {
        "id": "zB3NGalaLlN1"
      },
      "source": [
        "## Load up input images, poses, intrinsics, etc."
      ]
    },
    {
      "cell_type": "code",
      "execution_count": 15,
      "metadata": {
        "id": "1w2QkjCkLc9Z"
      },
      "outputs": [],
      "source": [
        "# Load input images, poses, and intrinsics\n",
        "data = np.load(\"tiny_nerf_data.npz\")\n",
        "\n",
        "# Images\n",
        "images = data[\"images\"]\n",
        "# Camera extrinsics (poses)\n",
        "tform_cam2world = data[\"poses\"]\n",
        "tform_cam2world = torch.from_numpy(tform_cam2world).to(device)\n",
        "# Focal length (intrinsics)\n",
        "focal_length = data[\"focal\"]\n",
        "focal_length = torch.from_numpy(focal_length).to(device)\n",
        "\n",
        "# Height and width of each image\n",
        "height, width = images.shape[1:3]\n",
        "\n",
        "# Near and far clipping thresholds for depth values.\n",
        "near_thresh = 2.\n",
        "far_thresh = 6.\n",
        "\n",
        "# Hold one image out (for test).\n",
        "testimg, testpose = images[30], tform_cam2world[30]\n",
        "testimg = torch.from_numpy(testimg).to(device)\n",
        "\n",
        "# Map images to device\n",
        "images = torch.from_numpy(images[:100, ..., :3]).to(device)"
      ]
    },
    {
      "cell_type": "markdown",
      "metadata": {
        "id": "mVsKUODnM9KK"
      },
      "source": [
        "#### Display the image used for testing"
      ]
    },
    {
      "cell_type": "code",
      "execution_count": 16,
      "metadata": {
        "colab": {
          "base_uri": "https://localhost:8080/",
          "height": 433
        },
        "id": "_04FamFHM7l8",
        "outputId": "f4999258-65d6-475d-a17c-a0836b8062c0"
      },
      "outputs": [
        {
          "data": {
            "image/png": "[encoded data removed]",
            "text/plain": [
              "<Figure size 640x480 with 1 Axes>"
            ]
          },
          "metadata": {},
          "output_type": "display_data"
        }
      ],
      "source": [
        "plt.imshow(testimg.detach().cpu().numpy())\n",
        "plt.show()"
      ]
    },
    {
      "cell_type": "markdown",
      "metadata": {
        "id": "XFUaajNpNNgJ"
      },
      "source": [
        "## Train TinyNeRF!\n",
        "\n",
        "(The cool part!)"
      ]
    },
    {
      "cell_type": "code",
      "execution_count": 19,
      "metadata": {
        "id": "nY2Dt8lgWhKO"
      },
      "outputs": [],
      "source": [
        "# One iteration of TinyNeRF (forward pass).\n",
        "def run_one_iter_of_tinynerf(height, width, focal_length, tform_cam2world,\n",
        "                             near_thresh, far_thresh, depth_samples_per_ray,\n",
        "                             encoding_function, get_minibatches_function):\n",
        "\n",
        "  # Get the \"bundle\" of rays through all image pixels.\n",
        "  ray_origins, ray_directions = get_ray_bundle(height, width, focal_length,\n",
        "                                               tform_cam2world)\n",
        "\n",
        "  # Sample query points along each ray\n",
        "  query_points, depth_values = compute_query_points_from_rays(\n",
        "      ray_origins, ray_directions, near_thresh, far_thresh, depth_samples_per_ray\n",
        "  )\n",
        "\n",
        "  # \"Flatten\" the query points.\n",
        "  flattened_query_points = query_points.reshape((-1, 3))\n",
        "\n",
        "  # Encode the query points (default: positional encoding).\n",
        "  encoded_points = encoding_function(flattened_query_points)\n",
        "\n",
        "  # Split the encoded points into \"chunks\", run the model on all chunks, and\n",
        "  # concatenate the results (to avoid out-of-memory issues).\n",
        "  batches = get_minibatches_function(encoded_points, chunksize=chunksize)\n",
        "  predictions = []\n",
        "  for batch in batches:\n",
        "    predictions.append(model(batch))\n",
        "  radiance_field_flattened = torch.cat(predictions, dim=0)\n",
        "\n",
        "  # \"Unflatten\" to obtain the radiance field.\n",
        "  unflattened_shape = list(query_points.shape[:-1]) + [4]\n",
        "  radiance_field = torch.reshape(radiance_field_flattened, unflattened_shape)\n",
        "\n",
        "  # Perform differentiable volume rendering to re-synthesize the RGB image.\n",
        "  rgb_predicted, _, _ = render_volume_density_real(radiance_field, ray_origins, depth_values)\n",
        "\n",
        "  return rgb_predicted"
      ]
    },
    {
      "cell_type": "code",
      "execution_count": 13,
      "metadata": {},
      "outputs": [],
      "source": [
        "def render_volume_density(\n",
        "    radiance_field: torch.Tensor,\n",
        "    ray_origins: torch.Tensor,\n",
        "    depth_values: torch.Tensor\n",
        ") -> (torch.Tensor, torch.Tensor, torch.Tensor):\n",
        "  r\"\"\"Differentiably renders a radiance field, given the origin of each ray in the\n",
        "  \"bundle\", and the sampled depth values along them.\n",
        "\n",
        "  Args:\n",
        "    radiance_field (torch.Tensor): A \"field\" where, at each query location (X, Y, Z),\n",
        "      we have an emitted (RGB) color and a volume density (denoted :math:`\\sigma` in\n",
        "      the paper) (shape: :math:`(width, height, num_samples, 4)`).\n",
        "    ray_origins (torch.Tensor): Origin of each ray in the \"bundle\" as returned by the\n",
        "      `get_ray_bundle()` method (shape: :math:`(width, height, 3)`).\n",
        "    depth_values (torch.Tensor): Sampled depth values along each ray\n",
        "      (shape: :math:`(num_samples)`).\n",
        "\n",
        "  Returns:\n",
        "    rgb_map (torch.Tensor): Rendered RGB image (shape: :math:`(width, height, 3)`).\n",
        "    depth_map (torch.Tensor): Rendered depth image (shape: :math:`(width, height)`).\n",
        "    acc_map (torch.Tensor): # TODO: Double-check (I think this is the accumulated\n",
        "      transmittance map).\n",
        "  \"\"\"\n",
        "  # TESTED\n",
        "  sigma_a = torch.nn.functional.relu(radiance_field[..., 3])\n",
        "  rgb = torch.sigmoid(radiance_field[..., :3])\n",
        "  # print(rgb.shape)\n",
        "  rgb=torch.reshape(rgb,(100,100,192,3))\n",
        "  rgb=torch.reshape(rgb,(100,100,576))\n",
        "  rgb=torch.reshape(rgb,(10000,576))\n",
        "  # rgb= torch.stack(rgb)\n",
        "  rgb=torch.tensor(rgb)\n",
        "  one_e_10 = torch.tensor([1e10], dtype=ray_origins.dtype, device=ray_origins.device)\n",
        "  dists = torch.cat((depth_values[..., 1:] - depth_values[..., :-1],\n",
        "                  one_e_10.expand(depth_values[..., :1].shape)), dim=-1)\n",
        "  alpha = 1. - torch.exp(-sigma_a * dists)\n",
        "  weights = alpha * cumprod_exclusive(1. - alpha + 1e-10)\n",
        "\n",
        "  # rgb_map = (weights[..., None] * rgb).sum(dim=-2)\n",
        "  rgb_map=model_color_mlp(rgb)\n",
        "  rgb_map=torch.reshape(rgb_map,(100,100,3))\n",
        "  depth_map = (weights * depth_values).sum(dim=-1)\n",
        "  acc_map = weights.sum(-1)\n",
        "\n",
        "  return rgb_map, depth_map, acc_map"
      ]
    },
    {
      "cell_type": "code",
      "execution_count": null,
      "metadata": {
        "colab": {
          "base_uri": "https://localhost:8080/",
          "height": 1000
        },
        "id": "JovhcSy1NIhr",
        "outputId": "50f322e3-552b-4802-e03e-1e5237a64ecf"
      },
      "outputs": [],
      "source": [
        "\"\"\"\n",
        "Parameters for TinyNeRF training\n",
        "\"\"\"\n",
        "\n",
        "# Number of functions used in the positional encoding (Be sure to update the\n",
        "# model if this number changes).\n",
        "num_encoding_functions = 6\n",
        "# Specify encoding function.\n",
        "encode = lambda x: positional_encoding(x, num_encoding_functions=num_encoding_functions)\n",
        "# Number of depth samples along each ray.\n",
        "depth_samples_per_ray = 192\n",
        "\n",
        "# Chunksize (Note: this isn't batchsize in the conventional sense. This only\n",
        "# specifies the number of rays to be queried in one go. Backprop still happens\n",
        "# only after all rays from the current \"bundle\" are queried and rendered).\n",
        "chunksize = 16384  # Use chunksize of about 4096 to fit in ~1.4 GB of GPU memory.\n",
        "\n",
        "# Optimizer parameters\n",
        "lr = 5e-3\n",
        "num_iters = 10000\n",
        "\n",
        "# Misc parameters\n",
        "display_every = 100  # Number of iters after which stats are displayed\n",
        "\n",
        "\"\"\"\n",
        "Model\n",
        "\"\"\"\n",
        "model = VeryTinyNerfModel()\n",
        "model_path_F_f = 'lego_nerf_new.pth'\n",
        "checkpoint_F_f = torch.load(model_path_F_f, map_location=torch.device('cpu'))\n",
        "model.load_state_dict(checkpoint_F_f['model_state_dict'])\n",
        "model.to(device)\n",
        "model.eval()\n",
        "\n",
        "model.to(device)\n",
        "\n",
        "\"\"\"\n",
        "Optimizer\n",
        "\"\"\"\n",
        "optimizer = torch.optim.Adam(model.parameters(), lr=lr)\n",
        "\n",
        "\"\"\"\n",
        "Train-Eval-Repeat!\n",
        "\"\"\"\n",
        "\n",
        "# Seed RNG, for repeatability\n",
        "seed = 9458\n",
        "torch.manual_seed(seed)\n",
        "np.random.seed(seed)\n",
        "\n",
        "# Lists to log metrics etc.\n",
        "psnrs = []\n",
        "iternums = []\n",
        "\n",
        "for i in range(num_iters):\n",
        "\n",
        "  # Randomly pick an image as the target.\n",
        "  target_img_idx = np.random.randint(images.shape[0]-5)\n",
        "  target_img = images[target_img_idx].to(device)\n",
        "  target_tform_cam2world = tform_cam2world[target_img_idx].to(device)\n",
        "\n",
        "  # Run one iteration of TinyNeRF and get the rendered RGB image.\n",
        "  rgb_predicted = run_one_iter_of_tinynerf(height, width, focal_length,\n",
        "                                            target_tform_cam2world, near_thresh,\n",
        "                                            far_thresh, depth_samples_per_ray,\n",
        "                                            encode, get_minibatches)\n",
        "\n",
        "  # Compute mean-squared error between the predicted and target images. Backprop!\n",
        "  loss = torch.nn.functional.mse_loss(rgb_predicted, target_img)\n",
        "  loss.backward()\n",
        "  optimizer.step()\n",
        "  optimizer.zero_grad()\n",
        "  # Display images/plots/stats\n",
        "  if i % display_every == 0:\n",
        "    # Render the held-out view\n",
        "    rgb_predicted = run_one_iter_of_tinynerf(height, width, focal_length,\n",
        "                                              testpose, near_thresh,\n",
        "                                              far_thresh, depth_samples_per_ray,\n",
        "                                              encode, get_minibatches)\n",
        "    loss = torch.nn.functional.mse_loss(rgb_predicted, target_img)\n",
        "    print(\"Loss:\", loss.item())\n",
        "    psnr = -10. * torch.log10(loss)\n",
        "\n",
        "    psnrs.append(psnr.item())\n",
        "    iternums.append(i)\n",
        "\n",
        "    plt.figure(figsize=(10, 4))\n",
        "    plt.subplot(121)\n",
        "    plt.imshow(rgb_predicted.detach().cpu().numpy())\n",
        "    # plt.title(f\"Iteration {i}\")\n",
        "    # plt.subplot(122)\n",
        "    # plt.plot(iternums, psnrs)\n",
        "    # plt.title(\"PSNR\")\n",
        "    plt.show()\n",
        "\n",
        "print('Done!')"
      ]
    },
    {
      "cell_type": "code",
      "execution_count": 19,
      "metadata": {},
      "outputs": [],
      "source": [
        "torch.save({\n",
        "            'model_state_dict': model.state_dict(),\n",
        "            }, 'lego_nerf_new.pth')"
      ]
    },
    {
      "cell_type": "code",
      "execution_count": 14,
      "metadata": {},
      "outputs": [],
      "source": [
        "import torch.optim as optim"
      ]
    },
    {
      "cell_type": "code",
      "execution_count": null,
      "metadata": {},
      "outputs": [],
      "source": [
        "def render_volume_density_real(\n",
        "    radiance_field: torch.Tensor,\n",
        "    ray_origins: torch.Tensor,\n",
        "    depth_values: torch.Tensor\n",
        ") -> (torch.Tensor, torch.Tensor, torch.Tensor):\n",
        "  r\"\"\"Differentiably renders a radiance field, given the origin of each ray in the\n",
        "  \"bundle\", and the sampled depth values along them.\n",
        "\n",
        "  Args:\n",
        "    radiance_field (torch.Tensor): A \"field\" where, at each query location (X, Y, Z),\n",
        "      we have an emitted (RGB) color and a volume density (denoted :math:`\\sigma` in\n",
        "      the paper) (shape: :math:`(width, height, num_samples, 4)`).\n",
        "    ray_origins (torch.Tensor): Origin of each ray in the \"bundle\" as returned by the\n",
        "      `get_ray_bundle()` method (shape: :math:`(width, height, 3)`).\n",
        "    depth_values (torch.Tensor): Sampled depth values along each ray\n",
        "      (shape: :math:`(num_samples)`).\n",
        "\n",
        "  Returns:\n",
        "    rgb_map (torch.Tensor): Rendered RGB image (shape: :math:`(width, height, 3)`).\n",
        "    depth_map (torch.Tensor): Rendered depth image (shape: :math:`(width, height)`).\n",
        "    acc_map (torch.Tensor): # TODO: Double-check (I think this is the accumulated\n",
        "      transmittance map).\n",
        "  \"\"\"\n",
        "  # TESTED\n",
        "  sigma_a = torch.nn.functional.relu(radiance_field[..., 3])\n",
        "  rgb = torch.sigmoid(radiance_field[..., :3])\n",
        "  rgb1=torch.reshape(rgb,(10000,576))\n",
        "  rgb1=torch.tensor(rgb1)\n",
        "\n",
        "  one_e_10 = torch.tensor([1e10], dtype=ray_origins.dtype, device=ray_origins.device)\n",
        "  dists = torch.cat((depth_values[..., 1:] - depth_values[..., :-1],\n",
        "                  one_e_10.expand(depth_values[..., :1].shape)), dim=-1)\n",
        "  alpha = 1. - torch.exp(-sigma_a * dists)\n",
        "  weights = alpha * cumprod_exclusive(1. - alpha + 1e-10)\n",
        "\n",
        "  rgb_map = (weights[..., None] * rgb).sum(dim=-2)\n",
        "  rgb_map1=torch.reshape(rgb_map,(10000,3))\n",
        "  # y_color.extend(rgb_map1)\n",
        "  depth_map = (weights * depth_values).sum(dim=-1)\n",
        "  acc_map = weights.sum(-1)\n",
        "\n",
        "  return rgb_map, depth_map, acc_map,rgb1,rgb_map1\n",
        "\n",
        "# One iteration of TinyNeRF (forward pass).\n",
        "def run_one_iter_of_tinynerf(height, width, focal_length, tform_cam2world,\n",
        "                             near_thresh, far_thresh, depth_samples_per_ray,\n",
        "                             encoding_function, get_minibatches_function):\n",
        "\n",
        "  # Get the \"bundle\" of rays through all image pixels.\n",
        "  ray_origins, ray_directions = get_ray_bundle(height, width, focal_length,\n",
        "                                               tform_cam2world)\n",
        "\n",
        "  # Sample query points along each ray\n",
        "  query_points, depth_values = compute_query_points_from_rays(\n",
        "      ray_origins, ray_directions, near_thresh, far_thresh, depth_samples_per_ray\n",
        "  )\n",
        "\n",
        "  # \"Flatten\" the query points.\n",
        "  flattened_query_points = query_points.reshape((-1, 3))\n",
        "\n",
        "  # Encode the query points (default: positional encoding).\n",
        "  encoded_points = encoding_function(flattened_query_points)\n",
        "\n",
        "  # Split the encoded points into \"chunks\", run the model on all chunks, and\n",
        "  # concatenate the results (to avoid out-of-memory issues).\n",
        "  batches = get_minibatches_function(encoded_points, chunksize=chunksize)\n",
        "  predictions = []\n",
        "  for batch in batches:\n",
        "    predictions.append(model(batch))\n",
        "  radiance_field_flattened = torch.cat(predictions, dim=0)\n",
        "\n",
        "  # \"Unflatten\" to obtain the radiance field.\n",
        "  unflattened_shape = list(query_points.shape[:-1]) + [4]\n",
        "  radiance_field = torch.reshape(radiance_field_flattened, unflattened_shape)\n",
        "\n",
        "  # Perform differentiable volume rendering to re-synthesize the RGB image.\n",
        "  rgb_predicted, _, _,X_color_ans, y_color_ans = render_volume_density_real(radiance_field, ray_origins, depth_values)\n",
        "\n",
        "  return rgb_predicted, X_color_ans, y_color_ans\n",
        "\n",
        "\"\"\"\n",
        "Parameters for TinyNeRF training\n",
        "\"\"\"\n",
        "\n",
        "# Number of functions used in the positional encoding (Be sure to update the\n",
        "# model if this number changes).\n",
        "num_encoding_functions = 6\n",
        "# Specify encoding function.\n",
        "encode = lambda x: positional_encoding(x, num_encoding_functions=num_encoding_functions)\n",
        "# Number of depth samples along each ray.\n",
        "depth_samples_per_ray = 192\n",
        "\n",
        "# Chunksize (Note: this isn't batchsize in the conventional sense. This only\n",
        "# specifies the number of rays to be queried in one go. Backprop still happens\n",
        "# only after all rays from the current \"bundle\" are queried and rendered).\n",
        "chunksize = 4096  # Use chunksize of about 4096 to fit in ~1.4 GB of GPU memory.\n",
        "\n",
        "# Optimizer parameters\n",
        "lr = 5e-3\n",
        "num_iters = 10\n",
        "\n",
        "# Misc parameters\n",
        "display_every = 100  # Number of iters after which stats are displayed\n",
        "\n",
        "\"\"\"\n",
        "Model\n",
        "\"\"\"\n",
        "model = VeryTinyNerfModel(num_encoding_functions=num_encoding_functions)\n",
        "model_path_F_f = 'lego_nerf_new.pth'\n",
        "checkpoint_F_f = torch.load(model_path_F_f, map_location=torch.device('cpu'))\n",
        "model.load_state_dict(checkpoint_F_f['model_state_dict'])\n",
        "model.to(device)\n",
        "model.eval()\n",
        "\n",
        "model.to(device)\n",
        "\n",
        "\"\"\"\n",
        "Optimizer\n",
        "\"\"\"\n",
        "optimizer = torch.optim.Adam(model.parameters(), lr=lr)\n",
        "\n",
        "\"\"\"\n",
        "Train-Eval-Repeat!\n",
        "\"\"\"\n",
        "\n",
        "# Seed RNG, for repeatability\n",
        "seed = 9458\n",
        "torch.manual_seed(seed)\n",
        "np.random.seed(seed)\n",
        "\n",
        "# Lists to log metrics etc.\n",
        "psnrs = []\n",
        "iternums = []\n",
        "\n",
        "for i in range(num_iters):\n",
        "  X_color=[]\n",
        "  X_sigma=[]\n",
        "  y_color=[]\n",
        "  y_sigma=[]\n",
        "  for j in range(5): \n",
        "    # Randomly pick an image as the target.\n",
        "    target_img_idx = 5*i+j\n",
        "    target_img = images[target_img_idx].to(device)\n",
        "    target_tform_cam2world = tform_cam2world[target_img_idx].to(device)\n",
        "\n",
        "    # Run one iteration of TinyNeRF and get the rendered RGB image.\n",
        "    rgb_predicted, X_color_ans, y_color_ans = run_one_iter_of_tinynerf(height, width, focal_length,\n",
        "                                              target_tform_cam2world, near_thresh,\n",
        "                                              far_thresh, depth_samples_per_ray,\n",
        "                                              encode, get_minibatches)\n",
        "    X_color.extend(X_color_ans)\n",
        "    y_color.extend(y_color_ans)\n",
        "  X_color = torch.stack(X_color)\n",
        "  y_color = torch.stack(y_color)\n",
        "  model_color_mlp=MLP(12096,3)\n",
        "  if i!=0 or j!=0:\n",
        "    print(i,j)\n",
        "    model_path_mlp = 'model_color_mlp_lego1.pth'\n",
        "    checkpoint_F_f = torch.load(model_path_mlp, map_location=torch.device('cpu'))\n",
        "    model_color_mlp.load_state_dict(checkpoint_F_f['model_state_dict'])\n",
        "    model_color_mlp.to(device)\n",
        "  trainer_color = MLPtrainer(model_color_mlp, optim.Adam(model_color_mlp.parameters(), lr=1e-4))\n",
        "  trainer_color.train(X_color, y_color,epochs=15)\n",
        "  model_color_mlp_lego=model_color_mlp\n",
        "  torch.save({\n",
        "              'model_state_dict': model_color_mlp_lego.state_dict(),\n",
        "              }, 'model_color_mlp_lego1.pth')\n"
      ]
    },
    {
      "cell_type": "code",
      "execution_count": 16,
      "metadata": {},
      "outputs": [],
      "source": [
        "X_color = torch.stack(X_color)\n",
        "y_color = torch.stack(y_color)"
      ]
    },
    {
      "cell_type": "code",
      "execution_count": 17,
      "metadata": {},
      "outputs": [
        {
          "name": "stdout",
          "output_type": "stream",
          "text": [
            "torch.Size([50000, 3])\n",
            "torch.Size([50000, 576])\n"
          ]
        }
      ],
      "source": [
        "print(y_color.shape)\n",
        "print(X_color.shape)"
      ]
    },
    {
      "cell_type": "code",
      "execution_count": null,
      "metadata": {},
      "outputs": [],
      "source": [
        "from torch import nn, optim\n",
        "model_color_mlp=MLP(12096,3)\n",
        "trainer_color = MLPtrainer(model_color_mlp, optim.Adam(model_color_mlp.parameters(), lr=1e-4))\n",
        "trainer_color.train(X_color, y_color)"
      ]
    },
    {
      "cell_type": "code",
      "execution_count": 24,
      "metadata": {},
      "outputs": [],
      "source": [
        "# #save this model\n",
        "model_color_mlp_lego=model_color_mlp\n",
        "torch.save({\n",
        "            'model_state_dict': model_color_mlp_lego.state_dict(),\n",
        "            }, 'model_color_mlp_lego1.pth')"
      ]
    },
    {
      "cell_type": "code",
      "execution_count": 22,
      "metadata": {},
      "outputs": [
        {
          "data": {
            "text/plain": [
              "MLP(\n",
              "  (fc1): Linear(in_features=12096, out_features=256, bias=True)\n",
              "  (relu): ReLU()\n",
              "  (fc2): Linear(in_features=256, out_features=256, bias=True)\n",
              "  (fc3): Linear(in_features=256, out_features=256, bias=True)\n",
              "  (fc4): Linear(in_features=256, out_features=256, bias=True)\n",
              "  (fc5): Linear(in_features=256, out_features=256, bias=True)\n",
              "  (fc6): Linear(in_features=256, out_features=256, bias=True)\n",
              "  (fc7): Linear(in_features=256, out_features=256, bias=True)\n",
              "  (fc8): Linear(in_features=256, out_features=3, bias=True)\n",
              ")"
            ]
          },
          "execution_count": 22,
          "metadata": {},
          "output_type": "execute_result"
        }
      ],
      "source": [
        "model_color_mlp=MLP(12096,3)\n",
        "model_path_mlp = 'model_color_mlp_lego.pth'\n",
        "checkpoint_F_f = torch.load(model_path_mlp, map_location=torch.device('cpu'))\n",
        "model_color_mlp.load_state_dict(checkpoint_F_f['model_state_dict'])\n",
        "model_color_mlp.to(device)"
      ]
    },
    {
      "cell_type": "code",
      "execution_count": null,
      "metadata": {},
      "outputs": [],
      "source": []
    }
  ],
  "metadata": {
    "accelerator": "GPU",
    "colab": {
      "provenance": []
    },
    "kernelspec": {
      "display_name": "Python 3",
      "name": "python3"
    },
    "language_info": {
      "codemirror_mode": {
        "name": "ipython",
        "version": 3
      },
      "file_extension": ".py",
      "mimetype": "text/x-python",
      "name": "python",
      "nbconvert_exporter": "python",
      "pygments_lexer": "ipython3",
      "version": "3.9.undefined"
    }
  },
  "nbformat": 4,
  "nbformat_minor": 0
}
